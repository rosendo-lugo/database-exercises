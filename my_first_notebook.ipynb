{
 "cells": [
  {
   "cell_type": "code",
   "execution_count": 4,
   "id": "6063e485",
   "metadata": {},
   "outputs": [
    {
     "name": "stdout",
     "output_type": "stream",
     "text": [
      "Keyboard shortcut # 1, shift + 9, will create to paranthesis\n"
     ]
    }
   ],
   "source": [
    "print('Keyboard shortcut # 1, shift + 9, will create to paranthesis')"
   ]
  },
  {
   "cell_type": "code",
   "execution_count": 6,
   "id": "9cb2dc18",
   "metadata": {},
   "outputs": [
    {
     "name": "stdout",
     "output_type": "stream",
     "text": [
      "Keyboard shortcut # 2, shift + return, will execute the the current line and advance you to the next line  \n"
     ]
    }
   ],
   "source": [
    "print('Keyboard shortcut # 2, shift + return, will execute the the current line and advance you to the next line  ')"
   ]
  },
  {
   "cell_type": "code",
   "execution_count": 7,
   "id": "ae961afd",
   "metadata": {},
   "outputs": [
    {
     "name": "stdout",
     "output_type": "stream",
     "text": [
      "Keyboard shorcut # 3, shift + p, will print the current notebook\n"
     ]
    }
   ],
   "source": [
    "print('Keyboard shorcut # 3, shift + p, will print the current notebook')"
   ]
  },
  {
   "cell_type": "code",
   "execution_count": null,
   "id": "50a06c8b",
   "metadata": {},
   "outputs": [],
   "source": []
  }
 ],
 "metadata": {
  "kernelspec": {
   "display_name": "Python 3 (ipykernel)",
   "language": "python",
   "name": "python3"
  },
  "language_info": {
   "codemirror_mode": {
    "name": "ipython",
    "version": 3
   },
   "file_extension": ".py",
   "mimetype": "text/x-python",
   "name": "python",
   "nbconvert_exporter": "python",
   "pygments_lexer": "ipython3",
   "version": "3.9.13"
  }
 },
 "nbformat": 4,
 "nbformat_minor": 5
}
